{
  "cells": [
    {
      "cell_type": "markdown",
      "source": [
        "# Introduction\n",
        "This notebook is based on moondream's  gaze detection.[link](https://github.com/vikhyat/moondream/tree/main/recipes/gaze-detection-video)\n",
        "\n"
      ],
      "metadata": {
        "id": "_oA6tM7TH9rF"
      }
    },
    {
      "cell_type": "code",
      "source": [
        "#Install Dependencies.\n",
        "!sudo apt-get update && sudo apt-get install -y libvips42 libvips-dev ffmpeg"
      ],
      "metadata": {
        "id": "RKSKu8UK6RXr",
        "outputId": "21b038f9-dc00-457e-d2b2-91128b82c774",
        "colab": {
          "base_uri": "https://localhost:8080/"
        }
      },
      "execution_count": 1,
      "outputs": [
        {
          "output_type": "stream",
          "name": "stdout",
          "text": [
            "Hit:1 http://security.ubuntu.com/ubuntu jammy-security InRelease\n",
            "Hit:2 https://cloud.r-project.org/bin/linux/ubuntu jammy-cran40/ InRelease\n",
            "Hit:3 https://developer.download.nvidia.com/compute/cuda/repos/ubuntu2204/x86_64  InRelease\n",
            "Hit:4 https://ppa.launchpadcontent.net/deadsnakes/ppa/ubuntu jammy InRelease\n",
            "Hit:5 https://ppa.launchpadcontent.net/graphics-drivers/ppa/ubuntu jammy InRelease\n",
            "Hit:6 https://ppa.launchpadcontent.net/ubuntugis/ppa/ubuntu jammy InRelease\n",
            "Hit:7 https://r2u.stat.illinois.edu/ubuntu jammy InRelease\n",
            "Hit:8 http://archive.ubuntu.com/ubuntu jammy InRelease\n",
            "Hit:9 http://archive.ubuntu.com/ubuntu jammy-updates InRelease\n",
            "Hit:10 http://archive.ubuntu.com/ubuntu jammy-backports InRelease\n",
            "Reading package lists... Done\n",
            "W: Skipping acquire of configured file 'main/source/Sources' as repository 'https://r2u.stat.illinois.edu/ubuntu jammy InRelease' does not seem to provide it (sources.list entry misspelt?)\n",
            "Reading package lists... Done\n",
            "Building dependency tree... Done\n",
            "Reading state information... Done\n",
            "libvips-dev is already the newest version (8.12.1-1build1).\n",
            "libvips42 is already the newest version (8.12.1-1build1).\n",
            "ffmpeg is already the newest version (7:4.4.2-0ubuntu0.22.04.1).\n",
            "0 upgraded, 0 newly installed, 0 to remove and 36 not upgraded.\n"
          ]
        }
      ]
    },
    {
      "cell_type": "code",
      "source": [
        "!pip install torch>=2.0.0 transformers>=4.36.0 opencv-python>=4.8.0 pillow>=10.0.0 matplotlib>=3.7.0 numpy>=1.24.0 tqdm>=4.65.0 pyvips accelerate>=0.26.0 einops\n"
      ],
      "metadata": {
        "id": "CS9zti39Gu1a"
      },
      "execution_count": 2,
      "outputs": []
    },
    {
      "cell_type": "markdown",
      "source": [
        "Upload the File"
      ],
      "metadata": {
        "id": "lRPJ83hPIu0M"
      }
    },
    {
      "cell_type": "code",
      "source": [
        "from google.colab import files\n",
        "import shutil\n",
        "\n",
        "import os\n",
        "\n",
        "# Upload the file\n",
        "uploaded = files.upload()\n",
        "\n",
        "# Specify the target directory where you want to move the file\n",
        "target_directory = 'input'\n",
        "\n",
        "# Create the directory if it doesn't exist\n",
        "if not os.path.exists(target_directory):\n",
        "    os.makedirs(target_directory)\n",
        "if not os.path.exists(target_directory):\n",
        "    os.makedirs('output')\n",
        "\n",
        "# Move the uploaded file to the target directory\n",
        "for filename in uploaded.keys():\n",
        "    shutil.move(filename, os.path.join(target_directory, filename))\n",
        "\n",
        "print(f\"File moved to: {target_directory}\")\n"
      ],
      "metadata": {
        "id": "e_6F8pF7IxrB",
        "outputId": "553b30f1-8a41-40ea-84f9-71fe678f29e7",
        "colab": {
          "base_uri": "https://localhost:8080/",
          "height": 91
        }
      },
      "execution_count": 3,
      "outputs": [
        {
          "output_type": "display_data",
          "data": {
            "text/plain": [
              "<IPython.core.display.HTML object>"
            ],
            "text/html": [
              "\n",
              "     <input type=\"file\" id=\"files-642d3f7b-cdbd-4611-874e-f931a391a2a3\" name=\"files[]\" multiple disabled\n",
              "        style=\"border:none\" />\n",
              "     <output id=\"result-642d3f7b-cdbd-4611-874e-f931a391a2a3\">\n",
              "      Upload widget is only available when the cell has been executed in the\n",
              "      current browser session. Please rerun this cell to enable.\n",
              "      </output>\n",
              "      <script>// Copyright 2017 Google LLC\n",
              "//\n",
              "// Licensed under the Apache License, Version 2.0 (the \"License\");\n",
              "// you may not use this file except in compliance with the License.\n",
              "// You may obtain a copy of the License at\n",
              "//\n",
              "//      http://www.apache.org/licenses/LICENSE-2.0\n",
              "//\n",
              "// Unless required by applicable law or agreed to in writing, software\n",
              "// distributed under the License is distributed on an \"AS IS\" BASIS,\n",
              "// WITHOUT WARRANTIES OR CONDITIONS OF ANY KIND, either express or implied.\n",
              "// See the License for the specific language governing permissions and\n",
              "// limitations under the License.\n",
              "\n",
              "/**\n",
              " * @fileoverview Helpers for google.colab Python module.\n",
              " */\n",
              "(function(scope) {\n",
              "function span(text, styleAttributes = {}) {\n",
              "  const element = document.createElement('span');\n",
              "  element.textContent = text;\n",
              "  for (const key of Object.keys(styleAttributes)) {\n",
              "    element.style[key] = styleAttributes[key];\n",
              "  }\n",
              "  return element;\n",
              "}\n",
              "\n",
              "// Max number of bytes which will be uploaded at a time.\n",
              "const MAX_PAYLOAD_SIZE = 100 * 1024;\n",
              "\n",
              "function _uploadFiles(inputId, outputId) {\n",
              "  const steps = uploadFilesStep(inputId, outputId);\n",
              "  const outputElement = document.getElementById(outputId);\n",
              "  // Cache steps on the outputElement to make it available for the next call\n",
              "  // to uploadFilesContinue from Python.\n",
              "  outputElement.steps = steps;\n",
              "\n",
              "  return _uploadFilesContinue(outputId);\n",
              "}\n",
              "\n",
              "// This is roughly an async generator (not supported in the browser yet),\n",
              "// where there are multiple asynchronous steps and the Python side is going\n",
              "// to poll for completion of each step.\n",
              "// This uses a Promise to block the python side on completion of each step,\n",
              "// then passes the result of the previous step as the input to the next step.\n",
              "function _uploadFilesContinue(outputId) {\n",
              "  const outputElement = document.getElementById(outputId);\n",
              "  const steps = outputElement.steps;\n",
              "\n",
              "  const next = steps.next(outputElement.lastPromiseValue);\n",
              "  return Promise.resolve(next.value.promise).then((value) => {\n",
              "    // Cache the last promise value to make it available to the next\n",
              "    // step of the generator.\n",
              "    outputElement.lastPromiseValue = value;\n",
              "    return next.value.response;\n",
              "  });\n",
              "}\n",
              "\n",
              "/**\n",
              " * Generator function which is called between each async step of the upload\n",
              " * process.\n",
              " * @param {string} inputId Element ID of the input file picker element.\n",
              " * @param {string} outputId Element ID of the output display.\n",
              " * @return {!Iterable<!Object>} Iterable of next steps.\n",
              " */\n",
              "function* uploadFilesStep(inputId, outputId) {\n",
              "  const inputElement = document.getElementById(inputId);\n",
              "  inputElement.disabled = false;\n",
              "\n",
              "  const outputElement = document.getElementById(outputId);\n",
              "  outputElement.innerHTML = '';\n",
              "\n",
              "  const pickedPromise = new Promise((resolve) => {\n",
              "    inputElement.addEventListener('change', (e) => {\n",
              "      resolve(e.target.files);\n",
              "    });\n",
              "  });\n",
              "\n",
              "  const cancel = document.createElement('button');\n",
              "  inputElement.parentElement.appendChild(cancel);\n",
              "  cancel.textContent = 'Cancel upload';\n",
              "  const cancelPromise = new Promise((resolve) => {\n",
              "    cancel.onclick = () => {\n",
              "      resolve(null);\n",
              "    };\n",
              "  });\n",
              "\n",
              "  // Wait for the user to pick the files.\n",
              "  const files = yield {\n",
              "    promise: Promise.race([pickedPromise, cancelPromise]),\n",
              "    response: {\n",
              "      action: 'starting',\n",
              "    }\n",
              "  };\n",
              "\n",
              "  cancel.remove();\n",
              "\n",
              "  // Disable the input element since further picks are not allowed.\n",
              "  inputElement.disabled = true;\n",
              "\n",
              "  if (!files) {\n",
              "    return {\n",
              "      response: {\n",
              "        action: 'complete',\n",
              "      }\n",
              "    };\n",
              "  }\n",
              "\n",
              "  for (const file of files) {\n",
              "    const li = document.createElement('li');\n",
              "    li.append(span(file.name, {fontWeight: 'bold'}));\n",
              "    li.append(span(\n",
              "        `(${file.type || 'n/a'}) - ${file.size} bytes, ` +\n",
              "        `last modified: ${\n",
              "            file.lastModifiedDate ? file.lastModifiedDate.toLocaleDateString() :\n",
              "                                    'n/a'} - `));\n",
              "    const percent = span('0% done');\n",
              "    li.appendChild(percent);\n",
              "\n",
              "    outputElement.appendChild(li);\n",
              "\n",
              "    const fileDataPromise = new Promise((resolve) => {\n",
              "      const reader = new FileReader();\n",
              "      reader.onload = (e) => {\n",
              "        resolve(e.target.result);\n",
              "      };\n",
              "      reader.readAsArrayBuffer(file);\n",
              "    });\n",
              "    // Wait for the data to be ready.\n",
              "    let fileData = yield {\n",
              "      promise: fileDataPromise,\n",
              "      response: {\n",
              "        action: 'continue',\n",
              "      }\n",
              "    };\n",
              "\n",
              "    // Use a chunked sending to avoid message size limits. See b/62115660.\n",
              "    let position = 0;\n",
              "    do {\n",
              "      const length = Math.min(fileData.byteLength - position, MAX_PAYLOAD_SIZE);\n",
              "      const chunk = new Uint8Array(fileData, position, length);\n",
              "      position += length;\n",
              "\n",
              "      const base64 = btoa(String.fromCharCode.apply(null, chunk));\n",
              "      yield {\n",
              "        response: {\n",
              "          action: 'append',\n",
              "          file: file.name,\n",
              "          data: base64,\n",
              "        },\n",
              "      };\n",
              "\n",
              "      let percentDone = fileData.byteLength === 0 ?\n",
              "          100 :\n",
              "          Math.round((position / fileData.byteLength) * 100);\n",
              "      percent.textContent = `${percentDone}% done`;\n",
              "\n",
              "    } while (position < fileData.byteLength);\n",
              "  }\n",
              "\n",
              "  // All done.\n",
              "  yield {\n",
              "    response: {\n",
              "      action: 'complete',\n",
              "    }\n",
              "  };\n",
              "}\n",
              "\n",
              "scope.google = scope.google || {};\n",
              "scope.google.colab = scope.google.colab || {};\n",
              "scope.google.colab._files = {\n",
              "  _uploadFiles,\n",
              "  _uploadFilesContinue,\n",
              "};\n",
              "})(self);\n",
              "</script> "
            ]
          },
          "metadata": {}
        },
        {
          "output_type": "stream",
          "name": "stdout",
          "text": [
            "Saving 20250804_115701.mp4 to 20250804_115701.mp4\n",
            "File moved to: input\n"
          ]
        }
      ]
    },
    {
      "cell_type": "markdown",
      "source": [
        "# Run the Script.\n",
        "The output would be saved in an output named folder and also downloaded."
      ],
      "metadata": {
        "id": "XaXJttHiJ71u"
      }
    },
    {
      "cell_type": "code",
      "source": [
        "\"\"\"\n",
        "Gaze Detection Video Processor using Moondream 2\n",
        "------------------------------------------------\n",
        "\"\"\"\n",
        "\n",
        "import torch\n",
        "import numpy as np\n",
        "import cv2\n",
        "import matplotlib.pyplot as plt\n",
        "from PIL import Image\n",
        "from transformers import AutoModelForCausalLM\n",
        "from tqdm import tqdm\n",
        "import os\n",
        "import glob\n",
        "from typing import List, Dict, Tuple, Optional\n",
        "from contextlib import contextmanager\n",
        "\n",
        "\n",
        "def initialize_model() -> Optional[AutoModelForCausalLM]:\n",
        "    \"\"\"Initialize the Moondream 2 model with error handling.\"\"\"\n",
        "    try:\n",
        "        print(\"\\nInitializing Moondream 2 model...\")\n",
        "        model_id = \"vikhyatk/moondream2\"\n",
        "        revision = \"2025-01-09\"  # Specify revision for stability\n",
        "\n",
        "        if torch.cuda.is_available():\n",
        "            print(f\"GPU detected: {torch.cuda.get_device_name(0)}\")\n",
        "            device = \"cuda\"\n",
        "        else:\n",
        "            print(\"No GPU detected, using CPU\")\n",
        "            device = \"cpu\"\n",
        "\n",
        "        print(\"Loading model from HuggingFace...\")\n",
        "        model = AutoModelForCausalLM.from_pretrained(\n",
        "            model_id,\n",
        "            revision=revision,\n",
        "            trust_remote_code=True,\n",
        "            torch_dtype=torch.float16 if device == \"cuda\" else torch.float32,\n",
        "            low_cpu_mem_usage=True,\n",
        "            device_map={\"\": device} if device == \"cuda\" else None,\n",
        "        )\n",
        "\n",
        "        if device == \"cpu\":\n",
        "            model = model.to(device)\n",
        "        model.eval()\n",
        "\n",
        "        print(\"✓ Model initialized successfully\")\n",
        "        return model\n",
        "    except Exception as e:\n",
        "        print(f\"\\nError initializing model: {e}\")\n",
        "        return None\n",
        "\n",
        "\n",
        "@contextmanager\n",
        "def video_handler(\n",
        "    input_path: str, output_path: str\n",
        ") -> Tuple[cv2.VideoCapture, cv2.VideoWriter]:\n",
        "    \"\"\"Context manager for handling video capture and writer.\"\"\"\n",
        "    cap = cv2.VideoCapture(input_path)\n",
        "    if not cap.isOpened():\n",
        "        raise ValueError(f\"Could not open video file: {input_path}\")\n",
        "\n",
        "    # Get video properties\n",
        "    fps = int(cap.get(cv2.CAP_PROP_FPS))\n",
        "    width = int(cap.get(cv2.CAP_PROP_FRAME_WIDTH))\n",
        "    height = int(cap.get(cv2.CAP_PROP_FRAME_HEIGHT))\n",
        "\n",
        "    # Create video writer\n",
        "    fourcc = cv2.VideoWriter_fourcc(*\"mp4v\")\n",
        "    out = cv2.VideoWriter(output_path, fourcc, fps, (width, height))\n",
        "\n",
        "    try:\n",
        "        yield cap, out\n",
        "    finally:\n",
        "        cap.release()\n",
        "        out.release()\n",
        "        cv2.destroyAllWindows()\n",
        "\n",
        "\n",
        "def fig2rgb_array(fig: plt.Figure) -> np.ndarray:\n",
        "    \"\"\"Convert matplotlib figure to RGB array\"\"\"\n",
        "    fig.canvas.draw()\n",
        "    buf = fig.canvas.buffer_rgba()\n",
        "    w, h = fig.canvas.get_width_height()\n",
        "    img_array = np.asarray(buf).reshape((h, w, 4))\n",
        "    rgb_array = img_array[:, :, :3]  # Drop alpha channel\n",
        "    return rgb_array\n",
        "\n",
        "\n",
        "def visualize_frame(\n",
        "    frame: np.ndarray, faces: List[Dict], model: AutoModelForCausalLM, pil_image: Image\n",
        ") -> np.ndarray:\n",
        "    \"\"\"Visualize a single frame using matplotlib\"\"\"\n",
        "    try:\n",
        "        # Create figure without margins\n",
        "        fig = plt.figure(figsize=(frame.shape[1] / 100, frame.shape[0] / 100), dpi=100)\n",
        "        ax = fig.add_axes([0, 0, 1, 1])\n",
        "\n",
        "        # Display frame\n",
        "        ax.imshow(cv2.cvtColor(frame, cv2.COLOR_BGR2RGB))\n",
        "\n",
        "        # Sort faces by x_min coordinate for stable colors\n",
        "        faces = sorted(faces, key=lambda f: (f[\"y_min\"], f[\"x_min\"]))\n",
        "\n",
        "        # Generate colors\n",
        "        colors = plt.cm.rainbow(np.linspace(0, 1, max(1, len(faces))))\n",
        "\n",
        "        # Process each face\n",
        "        for face, color in zip(faces, colors):\n",
        "            try:\n",
        "                # Calculate face box coordinates\n",
        "                x_min = int(float(face[\"x_min\"]) * frame.shape[1])\n",
        "                y_min = int(float(face[\"y_min\"]) * frame.shape[0])\n",
        "                width = int(float(face[\"x_max\"] - face[\"x_min\"]) * frame.shape[1])\n",
        "                height = int(float(face[\"y_max\"] - face[\"y_min\"]) * frame.shape[0])\n",
        "\n",
        "                # Draw face rectangle\n",
        "                rect = plt.Rectangle(\n",
        "                    (x_min, y_min), width, height, fill=False, color=color, linewidth=2\n",
        "                )\n",
        "                ax.add_patch(rect)\n",
        "\n",
        "                # Calculate face center\n",
        "                face_center = (\n",
        "                    float(face[\"x_min\"] + face[\"x_max\"]) / 2,\n",
        "                    float(face[\"y_min\"] + face[\"y_max\"]) / 2,\n",
        "                )\n",
        "\n",
        "                # Try to detect gaze\n",
        "                try:\n",
        "                    gaze_result = model.detect_gaze(pil_image, face_center)\n",
        "                    if isinstance(gaze_result, dict) and \"gaze\" in gaze_result:\n",
        "                        gaze = gaze_result[\"gaze\"]\n",
        "                    else:\n",
        "                        gaze = gaze_result\n",
        "                except Exception as e:\n",
        "                    print(f\"Error detecting gaze: {e}\")\n",
        "                    continue\n",
        "\n",
        "                if (\n",
        "                    gaze is not None\n",
        "                    and isinstance(gaze, dict)\n",
        "                    and \"x\" in gaze\n",
        "                    and \"y\" in gaze\n",
        "                ):\n",
        "                    gaze_x = int(float(gaze[\"x\"]) * frame.shape[1])\n",
        "                    gaze_y = int(float(gaze[\"y\"]) * frame.shape[0])\n",
        "                    face_center_x = x_min + width // 2\n",
        "                    face_center_y = y_min + height // 2\n",
        "\n",
        "                    # Draw gaze line with gradient effect\n",
        "                    points = 50\n",
        "                    alphas = np.linspace(0.8, 0, points)\n",
        "\n",
        "                    # Calculate points along the line\n",
        "                    x_points = np.linspace(face_center_x, gaze_x, points)\n",
        "                    y_points = np.linspace(face_center_y, gaze_y, points)\n",
        "\n",
        "                    # Draw gradient line segments\n",
        "                    for i in range(points - 1):\n",
        "                        ax.plot(\n",
        "                            [x_points[i], x_points[i + 1]],\n",
        "                            [y_points[i], y_points[i + 1]],\n",
        "                            color=color,\n",
        "                            alpha=alphas[i],\n",
        "                            linewidth=4,\n",
        "                        )\n",
        "\n",
        "                    # Draw gaze point\n",
        "                    ax.scatter(gaze_x, gaze_y, color=color, s=100, zorder=5)\n",
        "                    ax.scatter(gaze_x, gaze_y, color=\"white\", s=50, zorder=6)\n",
        "\n",
        "            except Exception as e:\n",
        "                print(f\"Error processing face: {e}\")\n",
        "                continue\n",
        "\n",
        "        # Configure axes\n",
        "        ax.set_xlim(0, frame.shape[1])\n",
        "        ax.set_ylim(frame.shape[0], 0)\n",
        "        ax.axis(\"off\")\n",
        "\n",
        "        # Convert matplotlib figure to image\n",
        "        frame_rgb = fig2rgb_array(fig)\n",
        "\n",
        "        # Convert RGB to BGR for OpenCV\n",
        "        frame_bgr = cv2.cvtColor(frame_rgb, cv2.COLOR_RGB2BGR)\n",
        "\n",
        "        # Clean up\n",
        "        plt.close(fig)\n",
        "\n",
        "        return frame_bgr\n",
        "\n",
        "    except Exception as e:\n",
        "        print(f\"Error in visualize_frame: {e}\")\n",
        "        plt.close(\"all\")\n",
        "        return frame\n",
        "\n",
        "\n",
        "def process_video(\n",
        "    input_path: str, output_path: str, model: AutoModelForCausalLM\n",
        ") -> None:\n",
        "    \"\"\"Process video file and create new video with gaze visualization\"\"\"\n",
        "    with video_handler(input_path, output_path) as (cap, out):\n",
        "        total_frames = int(cap.get(cv2.CAP_PROP_FRAME_COUNT))\n",
        "        fps = int(cap.get(cv2.CAP_PROP_FPS))\n",
        "        print(f\"Processing video: {total_frames} frames at {fps} FPS\")\n",
        "\n",
        "        # Process frames\n",
        "        with tqdm(\n",
        "            total=total_frames, desc=f\"Processing {os.path.basename(input_path)}\"\n",
        "        ) as pbar:\n",
        "            while True:\n",
        "                ret, frame = cap.read()\n",
        "                if not ret:\n",
        "                    break\n",
        "\n",
        "                try:\n",
        "                    # Convert frame for model\n",
        "                    pil_image = Image.fromarray(cv2.cvtColor(frame, cv2.COLOR_BGR2RGB))\n",
        "\n",
        "                    # Detect faces\n",
        "                    detection_result = model.detect(pil_image, \"face\")\n",
        "\n",
        "                    # Handle different possible return formats\n",
        "                    if (\n",
        "                        isinstance(detection_result, dict)\n",
        "                        and \"objects\" in detection_result\n",
        "                    ):\n",
        "                        faces = detection_result[\"objects\"]\n",
        "                    elif isinstance(detection_result, list):\n",
        "                        faces = detection_result\n",
        "                    else:\n",
        "                        print(\n",
        "                            f\"Unexpected detection result format: {type(detection_result)}\"\n",
        "                        )\n",
        "                        faces = []\n",
        "\n",
        "                    # Ensure each face has the required coordinates\n",
        "                    faces = [\n",
        "                        face\n",
        "                        for face in faces\n",
        "                        if all(k in face for k in [\"x_min\", \"y_min\", \"x_max\", \"y_max\"])\n",
        "                    ]\n",
        "\n",
        "                    if not faces:\n",
        "                        processed_frame = frame\n",
        "                    else:\n",
        "                        # Visualize frame with matplotlib\n",
        "                        processed_frame = visualize_frame(\n",
        "                            frame, faces, model, pil_image\n",
        "                        )\n",
        "\n",
        "                    # Write frame\n",
        "                    out.write(processed_frame)\n",
        "                    pbar.update(1)\n",
        "\n",
        "                    # Force matplotlib to clean up\n",
        "                    plt.close(\"all\")\n",
        "\n",
        "                except Exception as e:\n",
        "                    print(f\"Error processing frame: {e}\")\n",
        "                    out.write(frame)  # Write original frame on error\n",
        "                    pbar.update(1)\n",
        "                    plt.close(\"all\")  # Clean up even on error\n",
        "\n",
        "import os\n",
        "import glob\n",
        "\n",
        "if __name__ == \"__main__\":\n",
        "    # Check if __file__ is defined (it won't be in interactive mode)\n",
        "    if '__file__' in globals():\n",
        "        base_dir = os.path.dirname(__file__)\n",
        "    else:\n",
        "        base_dir = os.getcwd()  # Use current working directory if running interactively\n",
        "\n",
        "    # Ensure input and output directories exist\n",
        "    input_dir = os.path.join(base_dir, \"input\")\n",
        "    output_dir = os.path.join(base_dir, \"output\")\n",
        "    os.makedirs(input_dir, exist_ok=True)\n",
        "    os.makedirs(output_dir, exist_ok=True)\n",
        "\n",
        "    # Find all video files in input directory\n",
        "    video_extensions = [\".mp4\", \".avi\", \".mov\", \".mkv\"]\n",
        "    input_videos = []\n",
        "    for ext in video_extensions:\n",
        "        input_videos.extend(glob.glob(os.path.join(input_dir, f\"*{ext}\")))\n",
        "\n",
        "    if not input_videos:\n",
        "        print(\"No video files found in input directory\")\n",
        "        exit(1)\n",
        "\n",
        "    # Initialize model once for all videos\n",
        "    model = initialize_model()\n",
        "    if model is None:\n",
        "        print(\"Failed to initialize model\")\n",
        "        exit(1)\n",
        "\n",
        "    # Process each video file\n",
        "    for input_video in input_videos:\n",
        "        base_name = os.path.basename(input_video)\n",
        "        output_video = os.path.join(output_dir, f\"processed_{base_name}\")\n",
        "        try:\n",
        "            process_video(input_video, output_video, model)\n",
        "        except Exception as e:\n",
        "            print(f\"Error processing {base_name}: {e}\")\n",
        "            continue\n"
      ],
      "metadata": {
        "id": "G-32rhlK7yp1",
        "outputId": "0aaa8aea-5980-450e-e0ed-c04b4b9b28d0",
        "colab": {
          "base_uri": "https://localhost:8080/",
          "height": 1000
        }
      },
      "execution_count": 4,
      "outputs": [
        {
          "output_type": "stream",
          "name": "stdout",
          "text": [
            "\n",
            "Initializing Moondream 2 model...\n",
            "GPU detected: Tesla T4\n",
            "Loading model from HuggingFace...\n",
            "\n",
            "Error initializing model: 2025-01-09 is not a valid git identifier (branch name, tag name or commit id) that exists for this model name. Check the model page at 'https://huggingface.co/ewre324/moondream2' for available revisions.\n",
            "Failed to initialize model\n",
            "Processing video: 241 frames at 30 FPS\n"
          ]
        },
        {
          "output_type": "stream",
          "name": "stderr",
          "text": [
            "Processing 20250804_115701.mp4:   1%|          | 3/241 [00:00<00:28,  8.26it/s]"
          ]
        },
        {
          "output_type": "stream",
          "name": "stdout",
          "text": [
            "Error processing frame: 'NoneType' object has no attribute 'detect'\n",
            "Error processing frame: 'NoneType' object has no attribute 'detect'\n",
            "Error processing frame: 'NoneType' object has no attribute 'detect'\n",
            "Error processing frame: 'NoneType' object has no attribute 'detect'\n"
          ]
        },
        {
          "output_type": "stream",
          "name": "stderr",
          "text": [
            "\rProcessing 20250804_115701.mp4:   2%|▏         | 5/241 [00:00<00:21, 11.17it/s]"
          ]
        },
        {
          "output_type": "stream",
          "name": "stdout",
          "text": [
            "Error processing frame: 'NoneType' object has no attribute 'detect'\n",
            "Error processing frame: 'NoneType' object has no attribute 'detect'\n"
          ]
        },
        {
          "output_type": "stream",
          "name": "stderr",
          "text": [
            "\rProcessing 20250804_115701.mp4:   3%|▎         | 7/241 [00:00<00:26,  8.88it/s]"
          ]
        },
        {
          "output_type": "stream",
          "name": "stdout",
          "text": [
            "Error processing frame: 'NoneType' object has no attribute 'detect'\n",
            "Error processing frame: 'NoneType' object has no attribute 'detect'\n"
          ]
        },
        {
          "output_type": "stream",
          "name": "stderr",
          "text": [
            "\rProcessing 20250804_115701.mp4:   4%|▎         | 9/241 [00:01<00:26,  8.68it/s]"
          ]
        },
        {
          "output_type": "stream",
          "name": "stdout",
          "text": [
            "Error processing frame: 'NoneType' object has no attribute 'detect'\n",
            "Error processing frame: 'NoneType' object has no attribute 'detect'\n"
          ]
        },
        {
          "output_type": "stream",
          "name": "stderr",
          "text": [
            "\rProcessing 20250804_115701.mp4:   5%|▍         | 11/241 [00:01<00:24,  9.30it/s]"
          ]
        },
        {
          "output_type": "stream",
          "name": "stdout",
          "text": [
            "Error processing frame: 'NoneType' object has no attribute 'detect'\n",
            "Error processing frame: 'NoneType' object has no attribute 'detect'\n"
          ]
        },
        {
          "output_type": "stream",
          "name": "stderr",
          "text": [
            "Processing 20250804_115701.mp4:   6%|▌         | 15/241 [00:01<00:22, 10.18it/s]"
          ]
        },
        {
          "output_type": "stream",
          "name": "stdout",
          "text": [
            "Error processing frame: 'NoneType' object has no attribute 'detect'\n",
            "Error processing frame: 'NoneType' object has no attribute 'detect'\n",
            "Error processing frame: 'NoneType' object has no attribute 'detect'\n"
          ]
        },
        {
          "output_type": "stream",
          "name": "stderr",
          "text": [
            "\rProcessing 20250804_115701.mp4:   7%|▋         | 17/241 [00:01<00:19, 11.33it/s]"
          ]
        },
        {
          "output_type": "stream",
          "name": "stdout",
          "text": [
            "Error processing frame: 'NoneType' object has no attribute 'detect'\n",
            "Error processing frame: 'NoneType' object has no attribute 'detect'\n",
            "Error processing frame: 'NoneType' object has no attribute 'detect'\n",
            "Error processing frame: 'NoneType' object has no attribute 'detect'\n"
          ]
        },
        {
          "output_type": "stream",
          "name": "stderr",
          "text": [
            "Processing 20250804_115701.mp4:   9%|▊         | 21/241 [00:02<00:16, 13.53it/s]"
          ]
        },
        {
          "output_type": "stream",
          "name": "stdout",
          "text": [
            "Error processing frame: 'NoneType' object has no attribute 'detect'\n",
            "Error processing frame: 'NoneType' object has no attribute 'detect'\n",
            "Error processing frame: 'NoneType' object has no attribute 'detect'\n",
            "Error processing frame: 'NoneType' object has no attribute 'detect'\n"
          ]
        },
        {
          "output_type": "stream",
          "name": "stderr",
          "text": [
            "Processing 20250804_115701.mp4:  11%|█         | 26/241 [00:02<00:12, 16.65it/s]"
          ]
        },
        {
          "output_type": "stream",
          "name": "stdout",
          "text": [
            "Error processing frame: 'NoneType' object has no attribute 'detect'\n",
            "Error processing frame: 'NoneType' object has no attribute 'detect'\n",
            "Error processing frame: 'NoneType' object has no attribute 'detect'\n",
            "Error processing frame: 'NoneType' object has no attribute 'detect'\n",
            "Error processing frame: 'NoneType' object has no attribute 'detect'\n"
          ]
        },
        {
          "output_type": "stream",
          "name": "stderr",
          "text": [
            "Processing 20250804_115701.mp4:  13%|█▎        | 31/241 [00:02<00:12, 17.08it/s]"
          ]
        },
        {
          "output_type": "stream",
          "name": "stdout",
          "text": [
            "Error processing frame: 'NoneType' object has no attribute 'detect'\n",
            "Error processing frame: 'NoneType' object has no attribute 'detect'\n",
            "Error processing frame: 'NoneType' object has no attribute 'detect'\n",
            "Error processing frame: 'NoneType' object has no attribute 'detect'\n"
          ]
        },
        {
          "output_type": "stream",
          "name": "stderr",
          "text": [
            "Processing 20250804_115701.mp4:  15%|█▍        | 35/241 [00:02<00:13, 15.09it/s]"
          ]
        },
        {
          "output_type": "stream",
          "name": "stdout",
          "text": [
            "Error processing frame: 'NoneType' object has no attribute 'detect'\n",
            "Error processing frame: 'NoneType' object has no attribute 'detect'\n",
            "Error processing frame: 'NoneType' object has no attribute 'detect'\n"
          ]
        },
        {
          "output_type": "stream",
          "name": "stderr",
          "text": [
            "\rProcessing 20250804_115701.mp4:  15%|█▌        | 37/241 [00:02<00:13, 15.06it/s]"
          ]
        },
        {
          "output_type": "stream",
          "name": "stdout",
          "text": [
            "Error processing frame: 'NoneType' object has no attribute 'detect'\n",
            "Error processing frame: 'NoneType' object has no attribute 'detect'\n",
            "Error processing frame: 'NoneType' object has no attribute 'detect'\n",
            "Error processing frame: 'NoneType' object has no attribute 'detect'\n"
          ]
        },
        {
          "output_type": "stream",
          "name": "stderr",
          "text": [
            "Processing 20250804_115701.mp4:  17%|█▋        | 42/241 [00:03<00:12, 16.04it/s]"
          ]
        },
        {
          "output_type": "stream",
          "name": "stdout",
          "text": [
            "Error processing frame: 'NoneType' object has no attribute 'detect'\n",
            "Error processing frame: 'NoneType' object has no attribute 'detect'\n",
            "Error processing frame: 'NoneType' object has no attribute 'detect'\n",
            "Error processing frame: 'NoneType' object has no attribute 'detect'\n"
          ]
        },
        {
          "output_type": "stream",
          "name": "stderr",
          "text": [
            "Processing 20250804_115701.mp4:  20%|█▉        | 47/241 [00:03<00:10, 18.58it/s]"
          ]
        },
        {
          "output_type": "stream",
          "name": "stdout",
          "text": [
            "Error processing frame: 'NoneType' object has no attribute 'detect'\n",
            "Error processing frame: 'NoneType' object has no attribute 'detect'\n",
            "Error processing frame: 'NoneType' object has no attribute 'detect'\n",
            "Error processing frame: 'NoneType' object has no attribute 'detect'\n"
          ]
        },
        {
          "output_type": "stream",
          "name": "stderr",
          "text": [
            "\rProcessing 20250804_115701.mp4:  20%|██        | 49/241 [00:03<00:11, 17.39it/s]"
          ]
        },
        {
          "output_type": "stream",
          "name": "stdout",
          "text": [
            "Error processing frame: 'NoneType' object has no attribute 'detect'\n",
            "Error processing frame: 'NoneType' object has no attribute 'detect'\n",
            "Error processing frame: 'NoneType' object has no attribute 'detect'\n",
            "Error processing frame: 'NoneType' object has no attribute 'detect'\n",
            "Error processing frame: 'NoneType' object has no attribute 'detect'\n"
          ]
        },
        {
          "output_type": "stream",
          "name": "stderr",
          "text": [
            "Processing 20250804_115701.mp4:  23%|██▎       | 55/241 [00:03<00:09, 20.29it/s]"
          ]
        },
        {
          "output_type": "stream",
          "name": "stdout",
          "text": [
            "Error processing frame: 'NoneType' object has no attribute 'detect'\n",
            "Error processing frame: 'NoneType' object has no attribute 'detect'\n",
            "Error processing frame: 'NoneType' object has no attribute 'detect'\n",
            "Error processing frame: 'NoneType' object has no attribute 'detect'\n"
          ]
        },
        {
          "output_type": "stream",
          "name": "stderr",
          "text": [
            "\rProcessing 20250804_115701.mp4:  24%|██▍       | 58/241 [00:04<00:10, 16.67it/s]"
          ]
        },
        {
          "output_type": "stream",
          "name": "stdout",
          "text": [
            "Error processing frame: 'NoneType' object has no attribute 'detect'\n",
            "Error processing frame: 'NoneType' object has no attribute 'detect'\n",
            "Error processing frame: 'NoneType' object has no attribute 'detect'\n",
            "Error processing frame: 'NoneType' object has no attribute 'detect'\n"
          ]
        },
        {
          "output_type": "stream",
          "name": "stderr",
          "text": [
            "Processing 20250804_115701.mp4:  26%|██▌       | 63/241 [00:04<00:10, 16.90it/s]"
          ]
        },
        {
          "output_type": "stream",
          "name": "stdout",
          "text": [
            "Error processing frame: 'NoneType' object has no attribute 'detect'\n",
            "Error processing frame: 'NoneType' object has no attribute 'detect'\n",
            "Error processing frame: 'NoneType' object has no attribute 'detect'\n",
            "Error processing frame: 'NoneType' object has no attribute 'detect'\n"
          ]
        },
        {
          "output_type": "stream",
          "name": "stderr",
          "text": [
            "Processing 20250804_115701.mp4:  28%|██▊       | 67/241 [00:04<00:10, 16.17it/s]"
          ]
        },
        {
          "output_type": "stream",
          "name": "stdout",
          "text": [
            "Error processing frame: 'NoneType' object has no attribute 'detect'\n",
            "Error processing frame: 'NoneType' object has no attribute 'detect'\n",
            "Error processing frame: 'NoneType' object has no attribute 'detect'\n",
            "Error processing frame: 'NoneType' object has no attribute 'detect'\n"
          ]
        },
        {
          "output_type": "stream",
          "name": "stderr",
          "text": [
            "\rProcessing 20250804_115701.mp4:  29%|██▉       | 70/241 [00:04<00:09, 17.72it/s]"
          ]
        },
        {
          "output_type": "stream",
          "name": "stdout",
          "text": [
            "Error processing frame: 'NoneType' object has no attribute 'detect'\n",
            "Error processing frame: 'NoneType' object has no attribute 'detect'\n",
            "Error processing frame: 'NoneType' object has no attribute 'detect'\n",
            "Error processing frame: 'NoneType' object has no attribute 'detect'\n",
            "Error processing frame: 'NoneType' object has no attribute 'detect'\n"
          ]
        },
        {
          "output_type": "stream",
          "name": "stderr",
          "text": [
            "Processing 20250804_115701.mp4:  31%|███       | 75/241 [00:05<00:09, 16.90it/s]"
          ]
        },
        {
          "output_type": "stream",
          "name": "stdout",
          "text": [
            "Error processing frame: 'NoneType' object has no attribute 'detect'\n",
            "Error processing frame: 'NoneType' object has no attribute 'detect'\n",
            "Error processing frame: 'NoneType' object has no attribute 'detect'\n"
          ]
        },
        {
          "output_type": "stream",
          "name": "stderr",
          "text": [
            "\rProcessing 20250804_115701.mp4:  32%|███▏      | 77/241 [00:05<00:10, 15.77it/s]"
          ]
        },
        {
          "output_type": "stream",
          "name": "stdout",
          "text": [
            "Error processing frame: 'NoneType' object has no attribute 'detect'\n",
            "Error processing frame: 'NoneType' object has no attribute 'detect'\n",
            "Error processing frame: 'NoneType' object has no attribute 'detect'\n"
          ]
        },
        {
          "output_type": "stream",
          "name": "stderr",
          "text": [
            "Processing 20250804_115701.mp4:  34%|███▎      | 81/241 [00:05<00:12, 13.16it/s]"
          ]
        },
        {
          "output_type": "stream",
          "name": "stdout",
          "text": [
            "Error processing frame: 'NoneType' object has no attribute 'detect'\n",
            "Error processing frame: 'NoneType' object has no attribute 'detect'\n",
            "Error processing frame: 'NoneType' object has no attribute 'detect'\n"
          ]
        },
        {
          "output_type": "stream",
          "name": "stderr",
          "text": [
            "Processing 20250804_115701.mp4:  35%|███▌      | 85/241 [00:05<00:11, 13.88it/s]"
          ]
        },
        {
          "output_type": "stream",
          "name": "stdout",
          "text": [
            "Error processing frame: 'NoneType' object has no attribute 'detect'\n",
            "Error processing frame: 'NoneType' object has no attribute 'detect'\n",
            "Error processing frame: 'NoneType' object has no attribute 'detect'\n",
            "Error processing frame: 'NoneType' object has no attribute 'detect'\n"
          ]
        },
        {
          "output_type": "stream",
          "name": "stderr",
          "text": [
            "\rProcessing 20250804_115701.mp4:  36%|███▌      | 87/241 [00:06<00:11, 13.23it/s]"
          ]
        },
        {
          "output_type": "stream",
          "name": "stdout",
          "text": [
            "Error processing frame: 'NoneType' object has no attribute 'detect'\n",
            "Error processing frame: 'NoneType' object has no attribute 'detect'\n"
          ]
        },
        {
          "output_type": "stream",
          "name": "stderr",
          "text": [
            "\rProcessing 20250804_115701.mp4:  37%|███▋      | 89/241 [00:06<00:14, 10.81it/s]"
          ]
        },
        {
          "output_type": "stream",
          "name": "stdout",
          "text": [
            "Error processing frame: 'NoneType' object has no attribute 'detect'\n",
            "Error processing frame: 'NoneType' object has no attribute 'detect'\n",
            "Error processing frame: 'NoneType' object has no attribute 'detect'\n"
          ]
        },
        {
          "output_type": "stream",
          "name": "stderr",
          "text": [
            "Processing 20250804_115701.mp4:  39%|███▊      | 93/241 [00:06<00:13, 10.89it/s]"
          ]
        },
        {
          "output_type": "stream",
          "name": "stdout",
          "text": [
            "Error processing frame: 'NoneType' object has no attribute 'detect'\n",
            "Error processing frame: 'NoneType' object has no attribute 'detect'\n",
            "Error processing frame: 'NoneType' object has no attribute 'detect'\n"
          ]
        },
        {
          "output_type": "stream",
          "name": "stderr",
          "text": [
            "\rProcessing 20250804_115701.mp4:  39%|███▉      | 95/241 [00:06<00:12, 11.28it/s]"
          ]
        },
        {
          "output_type": "stream",
          "name": "stdout",
          "text": [
            "Error processing frame: 'NoneType' object has no attribute 'detect'\n",
            "Error processing frame: 'NoneType' object has no attribute 'detect'\n",
            "Error processing frame: 'NoneType' object has no attribute 'detect'\n"
          ]
        },
        {
          "output_type": "stream",
          "name": "stderr",
          "text": [
            "Processing 20250804_115701.mp4:  41%|████      | 99/241 [00:07<00:12, 10.92it/s]"
          ]
        },
        {
          "output_type": "stream",
          "name": "stdout",
          "text": [
            "Error processing frame: 'NoneType' object has no attribute 'detect'\n",
            "Error processing frame: 'NoneType' object has no attribute 'detect'\n",
            "Error processing frame: 'NoneType' object has no attribute 'detect'\n"
          ]
        },
        {
          "output_type": "stream",
          "name": "stderr",
          "text": [
            "\rProcessing 20250804_115701.mp4:  42%|████▏     | 101/241 [00:07<00:12, 10.77it/s]"
          ]
        },
        {
          "output_type": "stream",
          "name": "stdout",
          "text": [
            "Error processing frame: 'NoneType' object has no attribute 'detect'\n",
            "Error processing frame: 'NoneType' object has no attribute 'detect'\n",
            "Error processing frame: 'NoneType' object has no attribute 'detect'\n"
          ]
        },
        {
          "output_type": "stream",
          "name": "stderr",
          "text": [
            "Processing 20250804_115701.mp4:  44%|████▎     | 105/241 [00:07<00:11, 11.63it/s]"
          ]
        },
        {
          "output_type": "stream",
          "name": "stdout",
          "text": [
            "Error processing frame: 'NoneType' object has no attribute 'detect'\n",
            "Error processing frame: 'NoneType' object has no attribute 'detect'\n",
            "Error processing frame: 'NoneType' object has no attribute 'detect'\n"
          ]
        },
        {
          "output_type": "stream",
          "name": "stderr",
          "text": [
            "Processing 20250804_115701.mp4:  45%|████▌     | 109/241 [00:08<00:10, 12.40it/s]"
          ]
        },
        {
          "output_type": "stream",
          "name": "stdout",
          "text": [
            "Error processing frame: 'NoneType' object has no attribute 'detect'\n",
            "Error processing frame: 'NoneType' object has no attribute 'detect'\n",
            "Error processing frame: 'NoneType' object has no attribute 'detect'\n",
            "Error processing frame: 'NoneType' object has no attribute 'detect'\n"
          ]
        },
        {
          "output_type": "stream",
          "name": "stderr",
          "text": [
            "Processing 20250804_115701.mp4:  47%|████▋     | 113/241 [00:08<00:09, 12.90it/s]"
          ]
        },
        {
          "output_type": "stream",
          "name": "stdout",
          "text": [
            "Error processing frame: 'NoneType' object has no attribute 'detect'\n",
            "Error processing frame: 'NoneType' object has no attribute 'detect'\n",
            "Error processing frame: 'NoneType' object has no attribute 'detect'\n",
            "Error processing frame: 'NoneType' object has no attribute 'detect'\n",
            "Error processing frame: 'NoneType' object has no attribute 'detect'\n"
          ]
        },
        {
          "output_type": "stream",
          "name": "stderr",
          "text": [
            "Processing 20250804_115701.mp4:  49%|████▊     | 117/241 [00:08<00:11, 10.70it/s]"
          ]
        },
        {
          "output_type": "stream",
          "name": "stdout",
          "text": [
            "Error processing frame: 'NoneType' object has no attribute 'detect'\n",
            "Error processing frame: 'NoneType' object has no attribute 'detect'\n",
            "Error processing frame: 'NoneType' object has no attribute 'detect'\n"
          ]
        },
        {
          "output_type": "stream",
          "name": "stderr",
          "text": [
            "Processing 20250804_115701.mp4:  50%|█████     | 121/241 [00:09<00:08, 13.35it/s]"
          ]
        },
        {
          "output_type": "stream",
          "name": "stdout",
          "text": [
            "Error processing frame: 'NoneType' object has no attribute 'detect'\n",
            "Error processing frame: 'NoneType' object has no attribute 'detect'\n",
            "Error processing frame: 'NoneType' object has no attribute 'detect'\n",
            "Error processing frame: 'NoneType' object has no attribute 'detect'\n"
          ]
        },
        {
          "output_type": "stream",
          "name": "stderr",
          "text": [
            "Processing 20250804_115701.mp4:  52%|█████▏    | 125/241 [00:09<00:08, 13.97it/s]"
          ]
        },
        {
          "output_type": "stream",
          "name": "stdout",
          "text": [
            "Error processing frame: 'NoneType' object has no attribute 'detect'\n",
            "Error processing frame: 'NoneType' object has no attribute 'detect'\n",
            "Error processing frame: 'NoneType' object has no attribute 'detect'\n",
            "Error processing frame: 'NoneType' object has no attribute 'detect'\n"
          ]
        },
        {
          "output_type": "stream",
          "name": "stderr",
          "text": [
            "Processing 20250804_115701.mp4:  54%|█████▎    | 129/241 [00:09<00:06, 16.26it/s]"
          ]
        },
        {
          "output_type": "stream",
          "name": "stdout",
          "text": [
            "Error processing frame: 'NoneType' object has no attribute 'detect'\n",
            "Error processing frame: 'NoneType' object has no attribute 'detect'\n",
            "Error processing frame: 'NoneType' object has no attribute 'detect'\n",
            "Error processing frame: 'NoneType' object has no attribute 'detect'\n"
          ]
        },
        {
          "output_type": "stream",
          "name": "stderr",
          "text": [
            "Processing 20250804_115701.mp4:  55%|█████▌    | 133/241 [00:09<00:07, 14.73it/s]"
          ]
        },
        {
          "output_type": "stream",
          "name": "stdout",
          "text": [
            "Error processing frame: 'NoneType' object has no attribute 'detect'\n",
            "Error processing frame: 'NoneType' object has no attribute 'detect'\n",
            "Error processing frame: 'NoneType' object has no attribute 'detect'\n",
            "Error processing frame: 'NoneType' object has no attribute 'detect'\n"
          ]
        },
        {
          "output_type": "stream",
          "name": "stderr",
          "text": [
            "\rProcessing 20250804_115701.mp4:  56%|█████▋    | 136/241 [00:09<00:06, 16.37it/s]"
          ]
        },
        {
          "output_type": "stream",
          "name": "stdout",
          "text": [
            "Error processing frame: 'NoneType' object has no attribute 'detect'\n",
            "Error processing frame: 'NoneType' object has no attribute 'detect'\n",
            "Error processing frame: 'NoneType' object has no attribute 'detect'\n",
            "Error processing frame: 'NoneType' object has no attribute 'detect'\n"
          ]
        },
        {
          "output_type": "stream",
          "name": "stderr",
          "text": [
            "Processing 20250804_115701.mp4:  59%|█████▊    | 141/241 [00:10<00:05, 16.80it/s]"
          ]
        },
        {
          "output_type": "stream",
          "name": "stdout",
          "text": [
            "Error processing frame: 'NoneType' object has no attribute 'detect'\n",
            "Error processing frame: 'NoneType' object has no attribute 'detect'\n",
            "Error processing frame: 'NoneType' object has no attribute 'detect'\n",
            "Error processing frame: 'NoneType' object has no attribute 'detect'\n"
          ]
        },
        {
          "output_type": "stream",
          "name": "stderr",
          "text": [
            "Processing 20250804_115701.mp4:  61%|██████    | 146/241 [00:10<00:05, 18.89it/s]"
          ]
        },
        {
          "output_type": "stream",
          "name": "stdout",
          "text": [
            "Error processing frame: 'NoneType' object has no attribute 'detect'\n",
            "Error processing frame: 'NoneType' object has no attribute 'detect'\n",
            "Error processing frame: 'NoneType' object has no attribute 'detect'\n",
            "Error processing frame: 'NoneType' object has no attribute 'detect'\n"
          ]
        },
        {
          "output_type": "stream",
          "name": "stderr",
          "text": [
            "\rProcessing 20250804_115701.mp4:  61%|██████▏   | 148/241 [00:10<00:05, 16.89it/s]"
          ]
        },
        {
          "output_type": "stream",
          "name": "stdout",
          "text": [
            "Error processing frame: 'NoneType' object has no attribute 'detect'\n",
            "Error processing frame: 'NoneType' object has no attribute 'detect'\n",
            "Error processing frame: 'NoneType' object has no attribute 'detect'\n",
            "Error processing frame: 'NoneType' object has no attribute 'detect'\n"
          ]
        },
        {
          "output_type": "stream",
          "name": "stderr",
          "text": [
            "Processing 20250804_115701.mp4:  64%|██████▍   | 154/241 [00:10<00:04, 19.89it/s]"
          ]
        },
        {
          "output_type": "stream",
          "name": "stdout",
          "text": [
            "Error processing frame: 'NoneType' object has no attribute 'detect'\n",
            "Error processing frame: 'NoneType' object has no attribute 'detect'\n",
            "Error processing frame: 'NoneType' object has no attribute 'detect'\n",
            "Error processing frame: 'NoneType' object has no attribute 'detect'\n",
            "Error processing frame: 'NoneType' object has no attribute 'detect'\n"
          ]
        },
        {
          "output_type": "stream",
          "name": "stderr",
          "text": [
            "\rProcessing 20250804_115701.mp4:  65%|██████▌   | 157/241 [00:11<00:04, 18.76it/s]"
          ]
        },
        {
          "output_type": "stream",
          "name": "stdout",
          "text": [
            "Error processing frame: 'NoneType' object has no attribute 'detect'\n",
            "Error processing frame: 'NoneType' object has no attribute 'detect'\n",
            "Error processing frame: 'NoneType' object has no attribute 'detect'\n",
            "Error processing frame: 'NoneType' object has no attribute 'detect'\n",
            "Error processing frame: 'NoneType' object has no attribute 'detect'\n"
          ]
        },
        {
          "output_type": "stream",
          "name": "stderr",
          "text": [
            "Processing 20250804_115701.mp4:  67%|██████▋   | 162/241 [00:11<00:04, 18.41it/s]"
          ]
        },
        {
          "output_type": "stream",
          "name": "stdout",
          "text": [
            "Error processing frame: 'NoneType' object has no attribute 'detect'\n",
            "Error processing frame: 'NoneType' object has no attribute 'detect'\n",
            "Error processing frame: 'NoneType' object has no attribute 'detect'\n"
          ]
        },
        {
          "output_type": "stream",
          "name": "stderr",
          "text": [
            "Processing 20250804_115701.mp4:  69%|██████▉   | 166/241 [00:11<00:04, 17.73it/s]"
          ]
        },
        {
          "output_type": "stream",
          "name": "stdout",
          "text": [
            "Error processing frame: 'NoneType' object has no attribute 'detect'\n",
            "Error processing frame: 'NoneType' object has no attribute 'detect'\n",
            "Error processing frame: 'NoneType' object has no attribute 'detect'\n",
            "Error processing frame: 'NoneType' object has no attribute 'detect'\n"
          ]
        },
        {
          "output_type": "stream",
          "name": "stderr",
          "text": [
            "\rProcessing 20250804_115701.mp4:  70%|███████   | 169/241 [00:11<00:03, 18.16it/s]"
          ]
        },
        {
          "output_type": "stream",
          "name": "stdout",
          "text": [
            "Error processing frame: 'NoneType' object has no attribute 'detect'\n",
            "Error processing frame: 'NoneType' object has no attribute 'detect'\n",
            "Error processing frame: 'NoneType' object has no attribute 'detect'\n",
            "Error processing frame: 'NoneType' object has no attribute 'detect'\n"
          ]
        },
        {
          "output_type": "stream",
          "name": "stderr",
          "text": [
            "Processing 20250804_115701.mp4:  72%|███████▏  | 173/241 [00:12<00:03, 17.24it/s]"
          ]
        },
        {
          "output_type": "stream",
          "name": "stdout",
          "text": [
            "Error processing frame: 'NoneType' object has no attribute 'detect'\n",
            "Error processing frame: 'NoneType' object has no attribute 'detect'\n",
            "Error processing frame: 'NoneType' object has no attribute 'detect'\n",
            "Error processing frame: 'NoneType' object has no attribute 'detect'\n"
          ]
        },
        {
          "output_type": "stream",
          "name": "stderr",
          "text": [
            "Processing 20250804_115701.mp4:  74%|███████▍  | 179/241 [00:12<00:03, 18.16it/s]"
          ]
        },
        {
          "output_type": "stream",
          "name": "stdout",
          "text": [
            "Error processing frame: 'NoneType' object has no attribute 'detect'\n",
            "Error processing frame: 'NoneType' object has no attribute 'detect'\n",
            "Error processing frame: 'NoneType' object has no attribute 'detect'\n",
            "Error processing frame: 'NoneType' object has no attribute 'detect'\n"
          ]
        },
        {
          "output_type": "stream",
          "name": "stderr",
          "text": [
            "\rProcessing 20250804_115701.mp4:  75%|███████▌  | 181/241 [00:12<00:03, 16.54it/s]"
          ]
        },
        {
          "output_type": "stream",
          "name": "stdout",
          "text": [
            "Error processing frame: 'NoneType' object has no attribute 'detect'\n",
            "Error processing frame: 'NoneType' object has no attribute 'detect'\n",
            "Error processing frame: 'NoneType' object has no attribute 'detect'\n",
            "Error processing frame: 'NoneType' object has no attribute 'detect'\n"
          ]
        },
        {
          "output_type": "stream",
          "name": "stderr",
          "text": [
            "Processing 20250804_115701.mp4:  77%|███████▋  | 185/241 [00:12<00:03, 17.87it/s]"
          ]
        },
        {
          "output_type": "stream",
          "name": "stdout",
          "text": [
            "Error processing frame: 'NoneType' object has no attribute 'detect'\n",
            "Error processing frame: 'NoneType' object has no attribute 'detect'\n",
            "Error processing frame: 'NoneType' object has no attribute 'detect'\n",
            "Error processing frame: 'NoneType' object has no attribute 'detect'\n"
          ]
        },
        {
          "output_type": "stream",
          "name": "stderr",
          "text": [
            "Processing 20250804_115701.mp4:  79%|███████▉  | 190/241 [00:12<00:02, 17.98it/s]"
          ]
        },
        {
          "output_type": "stream",
          "name": "stdout",
          "text": [
            "Error processing frame: 'NoneType' object has no attribute 'detect'\n",
            "Error processing frame: 'NoneType' object has no attribute 'detect'\n",
            "Error processing frame: 'NoneType' object has no attribute 'detect'\n",
            "Error processing frame: 'NoneType' object has no attribute 'detect'\n"
          ]
        },
        {
          "output_type": "stream",
          "name": "stderr",
          "text": [
            "Processing 20250804_115701.mp4:  80%|████████  | 194/241 [00:13<00:02, 17.93it/s]"
          ]
        },
        {
          "output_type": "stream",
          "name": "stdout",
          "text": [
            "Error processing frame: 'NoneType' object has no attribute 'detect'\n",
            "Error processing frame: 'NoneType' object has no attribute 'detect'\n",
            "Error processing frame: 'NoneType' object has no attribute 'detect'\n",
            "Error processing frame: 'NoneType' object has no attribute 'detect'\n"
          ]
        },
        {
          "output_type": "stream",
          "name": "stderr",
          "text": [
            "Processing 20250804_115701.mp4:  82%|████████▏ | 198/241 [00:13<00:02, 16.07it/s]"
          ]
        },
        {
          "output_type": "stream",
          "name": "stdout",
          "text": [
            "Error processing frame: 'NoneType' object has no attribute 'detect'\n",
            "Error processing frame: 'NoneType' object has no attribute 'detect'\n",
            "Error processing frame: 'NoneType' object has no attribute 'detect'\n",
            "Error processing frame: 'NoneType' object has no attribute 'detect'\n"
          ]
        },
        {
          "output_type": "stream",
          "name": "stderr",
          "text": [
            "\rProcessing 20250804_115701.mp4:  83%|████████▎ | 199/241 [00:13<00:02, 14.63it/s]\n"
          ]
        },
        {
          "output_type": "stream",
          "name": "stdout",
          "text": [
            "Error processing frame: 'NoneType' object has no attribute 'detect'\n"
          ]
        },
        {
          "output_type": "error",
          "ename": "KeyboardInterrupt",
          "evalue": "",
          "traceback": [
            "\u001b[0;31m---------------------------------------------------------------------------\u001b[0m",
            "\u001b[0;31mAttributeError\u001b[0m                            Traceback (most recent call last)",
            "\u001b[0;32m/tmp/ipython-input-3098696440.py\u001b[0m in \u001b[0;36mprocess_video\u001b[0;34m(input_path, output_path, model)\u001b[0m\n\u001b[1;32m    221\u001b[0m                     \u001b[0;31m# Detect faces\u001b[0m\u001b[0;34m\u001b[0m\u001b[0;34m\u001b[0m\u001b[0m\n\u001b[0;32m--> 222\u001b[0;31m                     \u001b[0mdetection_result\u001b[0m \u001b[0;34m=\u001b[0m \u001b[0mmodel\u001b[0m\u001b[0;34m.\u001b[0m\u001b[0mdetect\u001b[0m\u001b[0;34m(\u001b[0m\u001b[0mpil_image\u001b[0m\u001b[0;34m,\u001b[0m \u001b[0;34m\"face\"\u001b[0m\u001b[0;34m)\u001b[0m\u001b[0;34m\u001b[0m\u001b[0;34m\u001b[0m\u001b[0m\n\u001b[0m\u001b[1;32m    223\u001b[0m \u001b[0;34m\u001b[0m\u001b[0m\n",
            "\u001b[0;31mAttributeError\u001b[0m: 'NoneType' object has no attribute 'detect'",
            "\nDuring handling of the above exception, another exception occurred:\n",
            "\u001b[0;31mKeyboardInterrupt\u001b[0m                         Traceback (most recent call last)",
            "\u001b[0;32m/tmp/ipython-input-3098696440.py\u001b[0m in \u001b[0;36m<cell line: 0>\u001b[0;34m()\u001b[0m\n\u001b[1;32m    301\u001b[0m         \u001b[0moutput_video\u001b[0m \u001b[0;34m=\u001b[0m \u001b[0mos\u001b[0m\u001b[0;34m.\u001b[0m\u001b[0mpath\u001b[0m\u001b[0;34m.\u001b[0m\u001b[0mjoin\u001b[0m\u001b[0;34m(\u001b[0m\u001b[0moutput_dir\u001b[0m\u001b[0;34m,\u001b[0m \u001b[0;34mf\"processed_{base_name}\"\u001b[0m\u001b[0;34m)\u001b[0m\u001b[0;34m\u001b[0m\u001b[0;34m\u001b[0m\u001b[0m\n\u001b[1;32m    302\u001b[0m         \u001b[0;32mtry\u001b[0m\u001b[0;34m:\u001b[0m\u001b[0;34m\u001b[0m\u001b[0;34m\u001b[0m\u001b[0m\n\u001b[0;32m--> 303\u001b[0;31m             \u001b[0mprocess_video\u001b[0m\u001b[0;34m(\u001b[0m\u001b[0minput_video\u001b[0m\u001b[0;34m,\u001b[0m \u001b[0moutput_video\u001b[0m\u001b[0;34m,\u001b[0m \u001b[0mmodel\u001b[0m\u001b[0;34m)\u001b[0m\u001b[0;34m\u001b[0m\u001b[0;34m\u001b[0m\u001b[0m\n\u001b[0m\u001b[1;32m    304\u001b[0m         \u001b[0;32mexcept\u001b[0m \u001b[0mException\u001b[0m \u001b[0;32mas\u001b[0m \u001b[0me\u001b[0m\u001b[0;34m:\u001b[0m\u001b[0;34m\u001b[0m\u001b[0;34m\u001b[0m\u001b[0m\n\u001b[1;32m    305\u001b[0m             \u001b[0mprint\u001b[0m\u001b[0;34m(\u001b[0m\u001b[0;34mf\"Error processing {base_name}: {e}\"\u001b[0m\u001b[0;34m)\u001b[0m\u001b[0;34m\u001b[0m\u001b[0;34m\u001b[0m\u001b[0m\n",
            "\u001b[0;32m/tmp/ipython-input-3098696440.py\u001b[0m in \u001b[0;36mprocess_video\u001b[0;34m(input_path, output_path, model)\u001b[0m\n\u001b[1;32m    260\u001b[0m                 \u001b[0;32mexcept\u001b[0m \u001b[0mException\u001b[0m \u001b[0;32mas\u001b[0m \u001b[0me\u001b[0m\u001b[0;34m:\u001b[0m\u001b[0;34m\u001b[0m\u001b[0;34m\u001b[0m\u001b[0m\n\u001b[1;32m    261\u001b[0m                     \u001b[0mprint\u001b[0m\u001b[0;34m(\u001b[0m\u001b[0;34mf\"Error processing frame: {e}\"\u001b[0m\u001b[0;34m)\u001b[0m\u001b[0;34m\u001b[0m\u001b[0;34m\u001b[0m\u001b[0m\n\u001b[0;32m--> 262\u001b[0;31m                     \u001b[0mout\u001b[0m\u001b[0;34m.\u001b[0m\u001b[0mwrite\u001b[0m\u001b[0;34m(\u001b[0m\u001b[0mframe\u001b[0m\u001b[0;34m)\u001b[0m  \u001b[0;31m# Write original frame on error\u001b[0m\u001b[0;34m\u001b[0m\u001b[0;34m\u001b[0m\u001b[0m\n\u001b[0m\u001b[1;32m    263\u001b[0m                     \u001b[0mpbar\u001b[0m\u001b[0;34m.\u001b[0m\u001b[0mupdate\u001b[0m\u001b[0;34m(\u001b[0m\u001b[0;36m1\u001b[0m\u001b[0;34m)\u001b[0m\u001b[0;34m\u001b[0m\u001b[0;34m\u001b[0m\u001b[0m\n\u001b[1;32m    264\u001b[0m                     \u001b[0mplt\u001b[0m\u001b[0;34m.\u001b[0m\u001b[0mclose\u001b[0m\u001b[0;34m(\u001b[0m\u001b[0;34m\"all\"\u001b[0m\u001b[0;34m)\u001b[0m  \u001b[0;31m# Clean up even on error\u001b[0m\u001b[0;34m\u001b[0m\u001b[0;34m\u001b[0m\u001b[0m\n",
            "\u001b[0;31mKeyboardInterrupt\u001b[0m: "
          ]
        }
      ]
    },
    {
      "cell_type": "code",
      "source": [
        "import zipfile\n",
        "import os\n",
        "from google.colab import files  # Ensure this import is correct\n",
        "\n",
        "# Path to the \"output\" folder\n",
        "folder_path = '/content/output'\n",
        "\n",
        "# Create a zip file\n",
        "zip_file_path = '/content/output_files.zip'\n",
        "\n",
        "# Zip the folder\n",
        "with zipfile.ZipFile(zip_file_path, 'w', zipfile.ZIP_DEFLATED) as zipf:\n",
        "    for root, dirs, files_in_dir in os.walk(folder_path):\n",
        "        for file in files_in_dir:\n",
        "            zipf.write(os.path.join(root, file), os.path.relpath(os.path.join(root, file), folder_path))\n",
        "\n",
        "# Download the zip file\n",
        "files.download(zip_file_path)\n"
      ],
      "metadata": {
        "id": "QndYahoVKTVZ"
      },
      "execution_count": null,
      "outputs": []
    }
  ],
  "metadata": {
    "colab": {
      "provenance": [],
      "gpuType": "T4"
    },
    "kernelspec": {
      "display_name": "Python 3",
      "name": "python3"
    },
    "accelerator": "GPU"
  },
  "nbformat": 4,
  "nbformat_minor": 0
}